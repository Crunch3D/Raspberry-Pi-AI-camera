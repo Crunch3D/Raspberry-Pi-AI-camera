{
 "cells": [
  {
   "cell_type": "code",
   "execution_count": null,
   "metadata": {},
   "outputs": [],
   "source": [
    "#!/usr/bin/env python3\n",
    "# -*- coding: utf-8 -*-"
   ]
  },
  {
   "cell_type": "markdown",
   "metadata": {},
   "source": [
    "\"\"\"\n",
    "\n",
    "    Created on Tue Nov  6 01:18:45 2018\n",
    "    * @par Copyright (C): 2010-2019, Shenzhen Yahboom Tech\n",
    "    * @file        pixel_diagram\n",
    "    * @version      V1.0\n",
    "    * @details\n",
    "    * @par History\n",
    "    \n",
    "    @author: longfuSun\n",
    "    \n",
    "\"\"\""
   ]
  },
  {
   "cell_type": "code",
   "execution_count": null,
   "metadata": {},
   "outputs": [],
   "source": [
    "import cv2\n",
    "import numpy as np\n",
    "from matplotlib import pyplot as plt"
   ]
  },
  {
   "cell_type": "code",
   "execution_count": null,
   "metadata": {},
   "outputs": [],
   "source": [
    "def color_hist(img):\n",
    "    mask=np.zeros(img.shape[:2],dtype=np.uint8)\n",
    "    mask[70:170,100:220]=255\n",
    "    \n",
    "    hsv=cv2.cvtColor(img,cv2.COLOR_BGR2HSV)\n",
    "    hist_mask=cv2.calcHist([hsv],[0],mask,[180],[0,180])\n",
    "    object_H=np.where(hist_mask==np.max(hist_mask))\n",
    "    print(object_H[0])\n",
    "    return object_H[0]\n",
    "    plt.plot(hist_mask)\n",
    "    plt.xlim([0,180])\n",
    "    plt.imshow(hist_mask,interplation='nearest')\n",
    "    plt.show()"
   ]
  },
  {
   "cell_type": "code",
   "execution_count": null,
   "metadata": {},
   "outputs": [],
   "source": [
    "def color_distinguish(object_H):\n",
    "    try:\n",
    "        if object_H>26 and object_H<34: color='yellow'\n",
    "        elif object_H>156 and object_H<180 : color='red'\n",
    "        elif object_H>100 and object_H<124: color ='blue'\n",
    "        elif object_H>35 and object_H<77 : color ='green'\n",
    "        elif object_H>78 and object_H<99:color ='cyan-blue'\n",
    "        elif object_H>6 and object_H<15: color ='orange'\n",
    "        else: color='None'\n",
    "        print(color)\n",
    "        return color\n",
    "    except:pass"
   ]
  },
  {
   "cell_type": "code",
   "execution_count": null,
   "metadata": {},
   "outputs": [],
   "source": [
    "if __name__=='__main__':\n",
    "    img=np.ones((240,320,3),dtype=np.uint8)*128\n",
    "    img[60:180,80:240]=[0,255,255]\n",
    "    object_H=color_hist(img)\n",
    "    color_distinguish(object_H)\n",
    "    cv2.imshow('image',img)\n",
    "    cv2.waitKey(0)\n",
    "    "
   ]
  },
  {
   "cell_type": "code",
   "execution_count": null,
   "metadata": {},
   "outputs": [],
   "source": []
  }
 ],
 "metadata": {
  "kernelspec": {
   "display_name": "Python 3",
   "language": "python",
   "name": "python3"
  },
  "language_info": {
   "codemirror_mode": {
    "name": "ipython",
    "version": 3
   },
   "file_extension": ".py",
   "mimetype": "text/x-python",
   "name": "python",
   "nbconvert_exporter": "python",
   "pygments_lexer": "ipython3",
   "version": "3.7.3"
  }
 },
 "nbformat": 4,
 "nbformat_minor": 4
}
