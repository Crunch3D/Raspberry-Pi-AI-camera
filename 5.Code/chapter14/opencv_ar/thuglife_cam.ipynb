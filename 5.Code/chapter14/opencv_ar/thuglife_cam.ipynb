{
 "cells": [
  {
   "cell_type": "markdown",
   "metadata": {},
   "source": [
    "\"\"\"\n",
    "\n",
    "    Created on Tue Nov  6 01:18:45 2018\n",
    "    * @par Copyright (C): 2010-2019, Shenzhen Yahboom Tech\n",
    "    * @file        speech conpound\n",
    "    * @version      V1.0\n",
    "    * @details\n",
    "    * @par History\n",
    "    \n",
    "    @author: longfuSun\n",
    "    \n",
    "\"\"\""
   ]
  },
  {
   "cell_type": "code",
   "execution_count": null,
   "metadata": {},
   "outputs": [],
   "source": [
    "import cv2\n",
    "from PIL import Image\n",
    "import numpy as np\n",
    "import time"
   ]
  },
  {
   "cell_type": "code",
   "execution_count": null,
   "metadata": {},
   "outputs": [],
   "source": [
    "maskPath = \"mask.png\"\n",
    "cascPath = \"123.xml\"\n",
    "\n",
    "faceCascade = cv2.CascadeClassifier(cascPath)\n",
    "\n",
    "mask = Image.open(maskPath)\n",
    "\n",
    "def thug_mask(image):\n",
    "\n",
    "\n",
    "\tgray = cv2.cvtColor(image, cv2.COLOR_BGR2GRAY)\n",
    "\tfaces = faceCascade.detectMultiScale(gray, 1.15)\n",
    "\n",
    "\tbackground = Image.fromarray(image)\n",
    "\n",
    "\tfor (x,y,w,h) in faces:\n",
    "\n",
    "\t\tresized_mask = mask.resize((w,h), Image.ANTIALIAS)\n",
    "\t\toffset = (x,y)\n",
    "\n",
    "\t\tbackground.paste(resized_mask, offset, mask=resized_mask)\n",
    "\n",
    "\n",
    "\treturn np.asarray(background)\n",
    "\n",
    "cap = cv2.VideoCapture(0)\n",
    "cap.set(3,320)\n",
    "cap.set(4,240)"
   ]
  },
  {
   "cell_type": "code",
   "execution_count": null,
   "metadata": {},
   "outputs": [],
   "source": [
    "while True:\n",
    "\tret, frame = cap.read()\n",
    "\tif ret == True:\n",
    "          gray = cv2.cvtColor(frame, cv2.COLOR_BGR2GRAY)\n",
    "          faces = faceCascade.detectMultiScale(gray, 1.15)\n",
    "          background = Image.fromarray(frame)\n",
    "          for (x,y,w,h) in faces:       \n",
    "                resized_mask = mask.resize((w,h), Image.ANTIALIAS)\n",
    "                offset = (x,y)\n",
    "                background.paste(resized_mask, offset, mask=resized_mask)\n",
    "          frame=np.asarray(background)\n",
    "          cv2.imshow('Live',frame)\n",
    "\n",
    "          if cv2.waitKey(1)==27:\n",
    "              break\n",
    "\n",
    "cap.release()\n",
    "\n",
    "cv2.destroyAllWindows()\n"
   ]
  },
  {
   "cell_type": "code",
   "execution_count": null,
   "metadata": {},
   "outputs": [],
   "source": []
  }
 ],
 "metadata": {
  "kernelspec": {
   "display_name": "Python 3",
   "language": "python",
   "name": "python3"
  },
  "language_info": {
   "codemirror_mode": {
    "name": "ipython",
    "version": 3
   },
   "file_extension": ".py",
   "mimetype": "text/x-python",
   "name": "python",
   "nbconvert_exporter": "python",
   "pygments_lexer": "ipython3",
   "version": "3.7.3"
  }
 },
 "nbformat": 4,
 "nbformat_minor": 4
}
