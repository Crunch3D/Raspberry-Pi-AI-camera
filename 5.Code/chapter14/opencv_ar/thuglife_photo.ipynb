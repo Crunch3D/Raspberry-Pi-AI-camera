{
 "cells": [
  {
   "cell_type": "markdown",
   "metadata": {},
   "source": [
    "\"\"\"\n",
    "\n",
    "    Created on Tue Nov  6 01:18:45 2018\n",
    "    * @par Copyright (C): 2010-2019, Shenzhen Yahboom Tech\n",
    "    * @file        photo\n",
    "    * @version      V1.0\n",
    "    * @details\n",
    "    * @par History\n",
    "    \n",
    "    @author: longfuSun\n",
    "    \n",
    "\"\"\""
   ]
  },
  {
   "cell_type": "code",
   "execution_count": null,
   "metadata": {},
   "outputs": [],
   "source": [
    "import cv2\n",
    "from PIL import Image\n",
    "import sys"
   ]
  },
  {
   "cell_type": "code",
   "execution_count": null,
   "metadata": {},
   "outputs": [],
   "source": [
    "# Postion of mask\n",
    "imagePath = \"sample.jpg\"\n",
    "maskPath = \"mask.png\"\n",
    "# Classifier\n",
    "cascPath = \"face.xml\"\n",
    "faceCascade = cv2.CascadeClassifier(cascPath)\n",
    "\n",
    "image = cv2.imread(imagePath)\n",
    "gray = cv2.cvtColor(image, cv2.COLOR_BGR2GRAY)\n",
    "\n",
    "faces = faceCascade.detectMultiScale(gray, 1.15)\n",
    "background = Image.open(imagePath)\n",
    "\n",
    "#put mask on face\n",
    "for (x,y,w,h) in faces:\n",
    "\tcv2.rectangle(image, (x,y), (x+w, y+h), (255, 0, 0), 2)\n",
    "\tcv2.imshow('face detected', image)\n",
    "\tcv2.waitKey(0)\n",
    "\t# open mask as PIL image\n",
    "\tmask = Image.open(maskPath)\n",
    "\t# resize mask according to detected face\n",
    "\tmask = mask.resize((w,h), Image.ANTIALIAS)\n",
    "\t# define offset for mask\n",
    "\toffset = (x,y)\n",
    "\t# paste mask on background\n",
    "\tbackground.paste(mask, offset, mask=mask)\n",
    "\n",
    "# paste final thug life meme\n",
    "background.save('out.png')\n"
   ]
  },
  {
   "cell_type": "code",
   "execution_count": null,
   "metadata": {},
   "outputs": [],
   "source": []
  }
 ],
 "metadata": {
  "kernelspec": {
   "display_name": "Python 3",
   "language": "python",
   "name": "python3"
  },
  "language_info": {
   "codemirror_mode": {
    "name": "ipython",
    "version": 3
   },
   "file_extension": ".py",
   "mimetype": "text/x-python",
   "name": "python",
   "nbconvert_exporter": "python",
   "pygments_lexer": "ipython3",
   "version": "3.7.3"
  }
 },
 "nbformat": 4,
 "nbformat_minor": 4
}
