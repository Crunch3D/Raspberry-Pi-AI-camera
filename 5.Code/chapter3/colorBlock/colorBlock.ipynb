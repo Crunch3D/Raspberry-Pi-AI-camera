{
 "cells": [
  {
   "cell_type": "code",
   "execution_count": null,
   "metadata": {},
   "outputs": [],
   "source": [
    "#!/usr/bin/env python3\n",
    "# -*- coding: utf-8 -*-"
   ]
  },
  {
   "cell_type": "markdown",
   "metadata": {},
   "source": [
    "\"\"\"\n",
    "\n",
    "    Created on Tue Nov  6 01:18:45 2018\n",
    "    * @par Copyright (C): 2010-2019, Shenzhen Yahboom Tech\n",
    "    * @file        colorBlock\n",
    "    * @version      V1.0\n",
    "    * @details\n",
    "    * @par History\n",
    "    \n",
    "    @author: longfuSun\n",
    "    \n",
    "\"\"\""
   ]
  },
  {
   "cell_type": "code",
   "execution_count": null,
   "metadata": {},
   "outputs": [],
   "source": [
    "import cv2\n",
    "import numpy as np"
   ]
  },
  {
   "cell_type": "code",
   "execution_count": null,
   "metadata": {},
   "outputs": [],
   "source": [
    "#Create picture and Color block\n",
    "img=np.ones((240,320,3),dtype=np.uint8)*255\n",
    "img[100:140,140:180]=[0,0,255]\n",
    "img[60:100,60:100]=[0,255,255]\n",
    "img[60:100,220:260]=[255,0,0]\n",
    "img[140:180,60:100]=[255,0,0]\n",
    "img[140:180,220:260]=[0,255,255]"
   ]
  },
  {
   "cell_type": "code",
   "execution_count": null,
   "metadata": {},
   "outputs": [],
   "source": [
    "#Hsv threshold of yellow and red\n",
    "yellow_lower=np.array([26,43,46])\n",
    "yellow_upper=np.array([34,255,255])\n",
    "red_lower=np.array([0,43,46])\n",
    "red_upper=np.array([10,255,255])\n",
    "\n",
    "#Color space conversionbgr->hsv\n",
    "hsv=cv2.cvtColor(img,cv2.COLOR_BGR2HSV)\n",
    "\n",
    "#Build a mask and use a mask\n",
    "mask_yellow=cv2.inRange(hsv,yellow_lower,yellow_upper)\n",
    "mask_red=cv2.inRange(hsv,red_lower,red_upper)\n",
    "mask=cv2.bitwise_or(mask_yellow,mask_red)\n",
    "res=cv2.bitwise_and(img,img,mask=mask)\n",
    "\n",
    "cv2.imshow('image',img)\n",
    "cv2.imshow('mask',mask)\n",
    "cv2.imshow('res',res)\n",
    "cv2.waitKey(0)\n",
    "cv2.destroyAllWindows()"
   ]
  },
  {
   "cell_type": "code",
   "execution_count": null,
   "metadata": {},
   "outputs": [],
   "source": []
  }
 ],
 "metadata": {
  "kernelspec": {
   "display_name": "Python 3",
   "language": "python",
   "name": "python3"
  },
  "language_info": {
   "codemirror_mode": {
    "name": "ipython",
    "version": 3
   },
   "file_extension": ".py",
   "mimetype": "text/x-python",
   "name": "python",
   "nbconvert_exporter": "python",
   "pygments_lexer": "ipython3",
   "version": "3.7.3"
  }
 },
 "nbformat": 4,
 "nbformat_minor": 4
}
