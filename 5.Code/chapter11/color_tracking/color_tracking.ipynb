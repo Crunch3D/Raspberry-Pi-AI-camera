{
 "cells": [
  {
   "cell_type": "code",
   "execution_count": null,
   "metadata": {},
   "outputs": [],
   "source": [
    "#!/usr/bin/env python3\n",
    "# -*- coding: utf-8 -*-"
   ]
  },
  {
   "cell_type": "markdown",
   "metadata": {},
   "source": [
    "\"\"\"\n",
    "\n",
    "    Created on Tue Nov  6 01:18:45 2018\n",
    "    * @par Copyright (C): 2010-2019, Shenzhen Yahboom Tech\n",
    "    * @file        color_tracking\n",
    "    * @version      V1.0\n",
    "    * @details\n",
    "    * @par History\n",
    "    \n",
    "    @author: longfuSun\n",
    "    \n",
    "\"\"\""
   ]
  },
  {
   "cell_type": "code",
   "execution_count": null,
   "metadata": {},
   "outputs": [],
   "source": [
    "from __future__ import division\n",
    "import cv2\n",
    "import time\n",
    "import numpy as np"
   ]
  },
  {
   "cell_type": "code",
   "execution_count": null,
   "metadata": {},
   "outputs": [],
   "source": [
    "cap=cv2.VideoCapture(0)\n",
    "\n",
    "#Set the camera ressolution to（640，480）\n",
    "#If you feel that the image is stuck, you can reduce it to (320, 240)\n",
    "cap.set(3,480)\n",
    "cap.set(4,320)\n",
    "\n",
    "#Set yellow value\n",
    "yellow_lower=np.array([26,43,46])\n",
    "yellow_upper=np.array([34,255,255])\n",
    "\n",
    "time.sleep(1)"
   ]
  },
  {
   "cell_type": "code",
   "execution_count": null,
   "metadata": {},
   "outputs": [],
   "source": [
    "while 1:\n",
    "    #Ret is whether to find the image, frame is the frame itself\n",
    "    ret,frame=cap.read()\n",
    "\n",
    "    frame=cv2.GaussianBlur(frame,(5,5),0)                    \n",
    "    hsv=cv2.cvtColor(frame,cv2.COLOR_BGR2HSV)                \n",
    "    mask=cv2.inRange(hsv,yellow_lower,yellow_upper)          \n",
    "    \n",
    "    #Morphologicla operation\n",
    "    mask=cv2.erode(mask,None,iterations=2)\n",
    "    mask=cv2.dilate(mask,None,iterations=2)\n",
    "    mask=cv2.GaussianBlur(mask,(3,3),0)\n",
    "    res=cv2.bitwise_and(frame,frame,mask=mask)               \n",
    "    cnts=cv2.findContours(mask.copy(),cv2.RETR_EXTERNAL,\n",
    "                          cv2.CHAIN_APPROX_SIMPLE)[-2]       \n",
    "    if len(cnts)>0:\n",
    "        cnt = max (cnts,key=cv2.contourArea)\n",
    "        (x,y),radius=cv2.minEnclosingCircle(cnt)\n",
    "        cv2.circle(frame,(int(x),int(y)),int(radius)*2,\n",
    "                   (255,0,255),2)                            \n",
    "        print('x:',x,'y:',y)\n",
    "    cv2.imshow('capture',frame)\n",
    "    if cv2.waitKey(1)==27:\n",
    "        break\n",
    "cap.release()\n",
    "cv2.destroyAllWindows()"
   ]
  },
  {
   "cell_type": "code",
   "execution_count": null,
   "metadata": {},
   "outputs": [],
   "source": []
  }
 ],
 "metadata": {
  "kernelspec": {
   "display_name": "Python 3",
   "language": "python",
   "name": "python3"
  },
  "language_info": {
   "codemirror_mode": {
    "name": "ipython",
    "version": 3
   },
   "file_extension": ".py",
   "mimetype": "text/x-python",
   "name": "python",
   "nbconvert_exporter": "python",
   "pygments_lexer": "ipython3",
   "version": "3.7.3"
  }
 },
 "nbformat": 4,
 "nbformat_minor": 4
}
