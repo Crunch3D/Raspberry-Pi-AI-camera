{
 "cells": [
  {
   "cell_type": "code",
   "execution_count": null,
   "metadata": {},
   "outputs": [],
   "source": [
    "#!/usr/bin/env python3\n",
    "# -*- coding: utf-8 -*-"
   ]
  },
  {
   "cell_type": "markdown",
   "metadata": {},
   "source": [
    "\"\"\"\n",
    "\n",
    "    Created on Tue Nov  6 01:18:45 2018\n",
    "    * @par Copyright (C): 2010-2019, Shenzhen Yahboom Tech\n",
    "    * @file         face_tracking\n",
    "    * @version      V1.0\n",
    "    * @details\n",
    "    * @par History\n",
    "    \n",
    "    @author: longfuSun\n",
    "    \n",
    "\"\"\""
   ]
  },
  {
   "cell_type": "code",
   "execution_count": null,
   "metadata": {},
   "outputs": [],
   "source": [
    "from __future__ import division\n",
    "import cv2\n",
    "#import Adafruit_PCA9685\n",
    "\n",
    "import time"
   ]
  },
  {
   "cell_type": "code",
   "execution_count": null,
   "metadata": {},
   "outputs": [],
   "source": [
    "#This is a version without servo\n",
    "cap = cv2.VideoCapture(0)\n",
    "cap.set(3, 320)\n",
    "cap.set(4, 320)\n",
    "#The location of face.xml should be in the same folder as the program.\n",
    "face_cascade = cv2.CascadeClassifier( '123.xml' ) \n",
    "#loop"
   ]
  },
  {
   "cell_type": "code",
   "execution_count": null,
   "metadata": {},
   "outputs": [],
   "source": [
    "while True:\n",
    "    ret,frame = cap.read()\n",
    "    gray = cv2.cvtColor(frame,cv2.COLOR_BGR2GRAY)\n",
    "     #First,convert each frame into a grayscale image and look it up in the grayscale image.\n",
    "    faces = face_cascade.detectMultiScale( gray )\n",
    "    max_face = 0\n",
    "    value_x = 0\n",
    "    if len(faces)>0:\n",
    "        #print('face found!')\n",
    "        for (x,y,w,h) in faces:\n",
    "            #The parameters are \"target frame\", \"rectangle\", \"rectangular size\", \"line color\", \"width\"\n",
    "            cv2.rectangle(frame,(x,y),(x+h,y+w),(0,255,0),2)\n",
    "            #max_face=w*h\n",
    "            result = (x,y,w,h)\n",
    "            x=result[0]\n",
    "            y = result[1]\n",
    "\n",
    "    cv2.imshow(\"capture\", frame)\n",
    "    if cv2.waitKey(1)==27:\n",
    "        break\n",
    "    \n",
    "cap.release()\n",
    "cv2.destroyAllWindows()\n"
   ]
  },
  {
   "cell_type": "code",
   "execution_count": null,
   "metadata": {},
   "outputs": [],
   "source": []
  }
 ],
 "metadata": {
  "kernelspec": {
   "display_name": "Python 3",
   "language": "python",
   "name": "python3"
  },
  "language_info": {
   "codemirror_mode": {
    "name": "ipython",
    "version": 3
   },
   "file_extension": ".py",
   "mimetype": "text/x-python",
   "name": "python",
   "nbconvert_exporter": "python",
   "pygments_lexer": "ipython3",
   "version": "3.7.3"
  }
 },
 "nbformat": 4,
 "nbformat_minor": 4
}
