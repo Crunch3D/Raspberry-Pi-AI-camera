{
 "cells": [
  {
   "cell_type": "code",
   "execution_count": null,
   "metadata": {},
   "outputs": [],
   "source": [
    "#!/usr/bin/env python3\n",
    "# -*- coding: utf-8 -*-"
   ]
  },
  {
   "cell_type": "markdown",
   "metadata": {},
   "source": [
    "\"\"\"\n",
    "\n",
    "    Created on Tue Nov  6 01:18:45 2018\n",
    "    * @par Copyright (C): 2010-2019, Shenzhen Yahboom Tech\n",
    "    * @file        speech conpound\n",
    "    * @version      V1.0\n",
    "    * @details\n",
    "    * @par History\n",
    "    \n",
    "    @author: longfuSun\n",
    "    \n",
    "\"\"\""
   ]
  },
  {
   "cell_type": "code",
   "execution_count": null,
   "metadata": {},
   "outputs": [],
   "source": [
    "from aip import AipSpeech\n",
    "import pygame\n",
    "import time\n",
    "from time import perf_counter\n",
    "import os"
   ]
  },
  {
   "cell_type": "code",
   "execution_count": null,
   "metadata": {},
   "outputs": [],
   "source": [
    "APP_ID='20059657'\n",
    "API_KEY='AOAFsdeeCwbQrEVDbSGjNjFE'\n",
    "SECRET_KEY='8NzZdG1AZw8Q0G1mnqgAfh5RLbbTGzZv'\n",
    "aipSpeech=AipSpeech(APP_ID,API_KEY,SECRET_KEY)"
   ]
  },
  {
   "cell_type": "code",
   "execution_count": null,
   "metadata": {},
   "outputs": [],
   "source": [
    "#Adjust the speech rate, volume, and vocals in the parameters. The girl who feels ‘per’ is 0 is the most natural and clear.\n",
    "t=perf_counter()\n",
    "result = aipSpeech.synthesis(text = 'Yahboom technology apply speech API to process speech conpound', \n",
    "                             options={'spd':3,'vol':9,'per':1,})\n",
    "#Write synthesized speech to a file\n",
    "if not isinstance(result,dict):\n",
    "    with open('audio.mp3','wb') as f:\n",
    "        f.write(result)\n",
    "        \n",
    "else:print(result)\n",
    "#We use pygame of Raspberry Pi\n",
    "pygame.mixer.init()\n",
    "pygame.mixer.music.load('/home/pi/yahboom/speech/audio.mp3')\n",
    "pygame.mixer.music.play()\n",
    "time.sleep(10)\n",
    "t2=perf_counter()\n",
    "print(t2-t)"
   ]
  },
  {
   "cell_type": "code",
   "execution_count": null,
   "metadata": {},
   "outputs": [],
   "source": []
  }
 ],
 "metadata": {
  "kernelspec": {
   "display_name": "Python 3",
   "language": "python",
   "name": "python3"
  },
  "language_info": {
   "codemirror_mode": {
    "name": "ipython",
    "version": 3
   },
   "file_extension": ".py",
   "mimetype": "text/x-python",
   "name": "python",
   "nbconvert_exporter": "python",
   "pygments_lexer": "ipython3",
   "version": "3.7.3"
  }
 },
 "nbformat": 4,
 "nbformat_minor": 4
}
