{
 "cells": [
  {
   "cell_type": "code",
   "execution_count": null,
   "metadata": {},
   "outputs": [],
   "source": [
    "#!/usr/bin/env python3\n",
    "# -*- coding: utf-8 -*-"
   ]
  },
  {
   "cell_type": "markdown",
   "metadata": {},
   "source": [
    "\"\"\"\n",
    "\n",
    "    Created on Tue Nov  6 01:18:45 2018\n",
    "    * @par Copyright (C): 2010-2019, Shenzhen Yahboom Tech\n",
    "    * @file        speech recognition\n",
    "    * @version      V1.0\n",
    "    * @details\n",
    "    * @par History\n",
    "    \n",
    "    @author: longfuSun\n",
    "    \n",
    "\"\"\""
   ]
  },
  {
   "cell_type": "code",
   "execution_count": null,
   "metadata": {},
   "outputs": [],
   "source": [
    "from aip import AipSpeech"
   ]
  },
  {
   "cell_type": "code",
   "execution_count": null,
   "metadata": {},
   "outputs": [],
   "source": [
    "APP_ID='14842746'\n",
    "API_KEY='0L7ur1I4FvsRo3GC3ONQEt5q'\n",
    "SECRET_KEY='gD6SIdDGW6bHl0SpVG5wQl1jZ5ymKWCm'"
   ]
  },
  {
   "cell_type": "code",
   "execution_count": null,
   "metadata": {},
   "outputs": [],
   "source": [
    "#Initialization\n",
    "aipSpeech=AipSpeech(APP_ID,API_KEY,SECRET_KEY)\n",
    "#Read file\n",
    "def get_file_content(filePath):\n",
    "    with open(filePath,'rb') as fp:\n",
    "        return fp.read()\n",
    "#Please refer to the technical documentation for the parameters. The format is amr and the language is Chinese.\n",
    "#The .amr file is the recording file for the moblie device\n",
    "#The test-case for this program is a Chinese .amr, so you can replace this target file by other language\n",
    "#Baidu speech api also support .pcm or .wav files\n",
    "result=aipSpeech.asr(get_file_content('/home/pi/yahboom/speech/8k.amr'),'amr',8000,{'lan':'en',})\n",
    "print(result['result'][0])"
   ]
  },
  {
   "cell_type": "code",
   "execution_count": null,
   "metadata": {},
   "outputs": [],
   "source": []
  }
 ],
 "metadata": {
  "kernelspec": {
   "display_name": "Python 3",
   "language": "python",
   "name": "python3"
  },
  "language_info": {
   "codemirror_mode": {
    "name": "ipython",
    "version": 3
   },
   "file_extension": ".py",
   "mimetype": "text/x-python",
   "name": "python",
   "nbconvert_exporter": "python",
   "pygments_lexer": "ipython3",
   "version": "3.7.3"
  }
 },
 "nbformat": 4,
 "nbformat_minor": 4
}
