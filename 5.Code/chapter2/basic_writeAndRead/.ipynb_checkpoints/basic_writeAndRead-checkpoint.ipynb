{
 "cells": [
  {
   "cell_type": "code",
   "execution_count": null,
   "metadata": {},
   "outputs": [],
   "source": [
    "#!/usr/bin/env python3\n",
    "# -*- coding: utf-8 -*-"
   ]
  },
  {
   "cell_type": "markdown",
   "metadata": {},
   "source": [
    "\"\"\"\n",
    "\n",
    "    Created on Tue Nov  6 01:18:45 2018\n",
    "    * @par Copyright (C): 2010-2019, Shenzhen Yahboom Tech\n",
    "    * @file        basic_writeAndrRead\n",
    "    * @version      V1.0\n",
    "    * @details\n",
    "    * @par History\n",
    "    \n",
    "    @author: longfuSun\n",
    "    \n",
    "\"\"\""
   ]
  },
  {
   "cell_type": "code",
   "execution_count": null,
   "metadata": {},
   "outputs": [],
   "source": [
    "import cv2\n",
    "img=cv2.imread('tankCar.jpg',cv2.IMREAD_COLOR)"
   ]
  },
  {
   "cell_type": "code",
   "execution_count": null,
   "metadata": {},
   "outputs": [],
   "source": [
    "cv2.imshow('image',img)\n",
    "\n",
    "k=cv2.waitKey(0)\n",
    "#Save the image to the specified file when the keyboard enters \"s\"\n",
    "#Exit when the keyboard enters \"Esc\"\n",
    "if k==27:\n",
    "    cv2.destroyAllWindows()\n",
    "elif k==ord('s'):\n",
    "    cv2.imwrite('car.jpg',img)\n",
    "    print('save image successfully')\n",
    "    cv2.destroyAllWindows()"
   ]
  },
  {
   "cell_type": "code",
   "execution_count": null,
   "metadata": {},
   "outputs": [],
   "source": []
  }
 ],
 "metadata": {
  "kernelspec": {
   "display_name": "Python 3",
   "language": "python",
   "name": "python3"
  },
  "language_info": {
   "codemirror_mode": {
    "name": "ipython",
    "version": 3
   },
   "file_extension": ".py",
   "mimetype": "text/x-python",
   "name": "python",
   "nbconvert_exporter": "python",
   "pygments_lexer": "ipython3",
   "version": "3.7.3"
  }
 },
 "nbformat": 4,
 "nbformat_minor": 4
}
